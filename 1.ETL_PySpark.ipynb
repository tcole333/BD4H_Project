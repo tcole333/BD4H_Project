{
 "cells": [
  {
   "cell_type": "code",
   "execution_count": 1,
   "id": "69a9ac03",
   "metadata": {
    "tags": []
   },
   "outputs": [],
   "source": [
    "import datetime\n",
    "import warnings\n",
    "\n",
    "import numpy as np\n",
    "import pandas as pd\n",
    "import pyspark\n",
    "import yaml\n",
    "from pyspark.sql import SparkSession\n",
    "from pyspark.sql.functions import (\n",
    "    array, col, collect_list, when, explode,\n",
    "    size, split, udf, substring, substring_index,\n",
    ")\n",
    "from pyspark.sql.types import IntegerType\n",
    "from sklearn import preprocessing as pp\n",
    "from sklearn.preprocessing import MultiLabelBinarizer\n",
    "\n",
    "warnings.filterwarnings(\"ignore\")"
   ]
  },
  {
   "cell_type": "code",
   "execution_count": 2,
   "id": "6f5b4af5",
   "metadata": {
    "tags": []
   },
   "outputs": [
    {
     "name": "stderr",
     "output_type": "stream",
     "text": [
      "21/12/11 20:18:55 WARN Utils: Your hostname, Ex resolves to a loopback address: 127.0.1.1; using 172.27.161.66 instead (on interface eth0)\n",
      "21/12/11 20:18:55 WARN Utils: Set SPARK_LOCAL_IP if you need to bind to another address\n",
      "WARNING: An illegal reflective access operation has occurred\n",
      "WARNING: Illegal reflective access by org.apache.spark.unsafe.Platform (file:/opt/spark/jars/spark-unsafe_2.12-3.2.0.jar) to constructor java.nio.DirectByteBuffer(long,int)\n",
      "WARNING: Please consider reporting this to the maintainers of org.apache.spark.unsafe.Platform\n",
      "WARNING: Use --illegal-access=warn to enable warnings of further illegal reflective access operations\n",
      "WARNING: All illegal access operations will be denied in a future release\n",
      "Using Spark's default log4j profile: org/apache/spark/log4j-defaults.properties\n",
      "Setting default log level to \"WARN\".\n",
      "To adjust logging level use sc.setLogLevel(newLevel). For SparkR, use setLogLevel(newLevel).\n",
      "21/12/11 20:18:56 WARN NativeCodeLoader: Unable to load native-hadoop library for your platform... using builtin-java classes where applicable\n"
     ]
    }
   ],
   "source": [
    "spark = (\n",
    "    SparkSession.builder.master(\"local\")\n",
    "    .appName(\"p6250\")\n",
    "    .config(\"spark.executor.memory\", \"16g\")\n",
    "    .getOrCreate()\n",
    ")"
   ]
  },
  {
   "cell_type": "code",
   "execution_count": 3,
   "id": "559a3b1a",
   "metadata": {},
   "outputs": [],
   "source": [
    "procedure_cols = [\n",
    "    \"DESYNPUF_ID\",\n",
    "    \"ICD9_PRCDR_CD_1\",\n",
    "    \"ICD9_PRCDR_CD_2\",\n",
    "    \"ICD9_PRCDR_CD_3\",\n",
    "    \"ICD9_PRCDR_CD_4\",\n",
    "    \"ICD9_PRCDR_CD_5\",\n",
    "    \"ICD9_PRCDR_CD_6\",\n",
    "]\n",
    "\n",
    "diagnosis_cols = [\n",
    "    \"DESYNPUF_ID\",\n",
    "    \"ICD9_DGNS_CD_1\",\n",
    "    \"ICD9_DGNS_CD_2\",\n",
    "    \"ICD9_DGNS_CD_3\",\n",
    "    \"ICD9_DGNS_CD_4\",\n",
    "    \"ICD9_DGNS_CD_5\",\n",
    "    \"ICD9_DGNS_CD_6\",\n",
    "    \"ICD9_DGNS_CD_7\",\n",
    "    \"ICD9_DGNS_CD_8\",\n",
    "    \"ICD9_DGNS_CD_9\",\n",
    "    \"ICD9_DGNS_CD_10\",\n",
    "]"
   ]
  },
  {
   "cell_type": "code",
   "execution_count": 4,
   "id": "bdc13ad3",
   "metadata": {},
   "outputs": [],
   "source": [
    "with open(\"resources/hcup_ccs_2015_definitions.yaml\", \"r\") as file:\n",
    "    xd_yml = yaml.safe_load(file)\n",
    "map_diag = pd.DataFrame(xd_yml).T.reset_index().explode(\"codes\")[[\"id\", \"codes\"]]\n",
    "\n",
    "map_diag[\"codes\"] = map_diag[\"codes\"].apply(lambda x: x[:3] if x[0] != \"E\" else x[:4])\n",
    "map_diag = map_diag.drop_duplicates()\n",
    "map_diag = spark.createDataFrame(map_diag)\n",
    "\n",
    "df_patient = spark.read.csv(\n",
    "    \"data/sample-01/DE1_0_2008_Beneficiary_Summary_File_Sample_1.csv\", header=True\n",
    ")"
   ]
  },
  {
   "cell_type": "code",
   "execution_count": 5,
   "id": "b0fcd2ef",
   "metadata": {},
   "outputs": [],
   "source": [
    "df_patient = df_patient.filter(col(\"BENE_DEATH_DT\").isNull())\n",
    "\n",
    "df_patient = df_patient.withColumn(\n",
    "    \"age\", ((20090101 - df_patient.BENE_BIRTH_DT) / 10000).cast(IntegerType())\n",
    ")\n",
    "\n",
    "df_patient = df_patient.withColumnRenamed(\"BENE_SEX_IDENT_CD\", \"sex\").select(\n",
    "    \"DESYNPUF_ID\", \"sex\", \"age\"\n",
    ")"
   ]
  },
  {
   "cell_type": "code",
   "execution_count": 6,
   "id": "16b014d4",
   "metadata": {
    "tags": []
   },
   "outputs": [],
   "source": [
    "# For the drug code, the 4 digits in the middle are for the main medicine code.\n",
    "\n",
    "df_rx = spark.read.csv(\n",
    "    \"data/sample-01/DE1_0_2008_to_2010_Prescription_Drug_Events_Sample_1.csv\",\n",
    "    header=True,\n",
    ")\n",
    "\n",
    "# is the the right code!!!!!!\n",
    "df_rx = df_rx.withColumn(\"rx\", substring(df_rx.PROD_SRVC_ID, 5, 4))\n",
    "df_rx = df_rx.select(\"DESYNPUF_ID\", \"rx\").dropDuplicates()\n",
    "df_rx = (\n",
    "    df_rx.groupBy(\"DESYNPUF_ID\")\n",
    "    .agg(collect_list(\"rx\"))\n",
    "    .withColumnRenamed(\"collect_list(rx)\", \"rx\")\n",
    ")\n",
    "df_rx = df_rx.withColumn(\"rx_cnt\", size(df_rx.rx))"
   ]
  },
  {
   "cell_type": "code",
   "execution_count": 7,
   "id": "5d2e7535",
   "metadata": {},
   "outputs": [],
   "source": [
    "df_dxsg = spark.read.csv(\n",
    "    \"data/sample-01/DE1_0_2008_to_2010_Inpatient_Claims_Sample_1.csv\", header=True\n",
    ").unionByName(\n",
    "    spark.read.csv(\n",
    "        \"data/sample-01/DE1_0_2008_to_2010_Outpatient_Claims_Sample_1.csv\", header=True\n",
    "    ),\n",
    "    allowMissingColumns=True,\n",
    ")\n",
    "\n",
    "df_sg = (\n",
    "    df_dxsg.select(*procedure_cols)\n",
    "    .withColumn(\"ICD9_sg\", array(*procedure_cols[1:]))\n",
    "    .select(\"DESYNPUF_ID\", \"ICD9_sg\")\n",
    ")\n",
    "df_dx = (\n",
    "    df_dxsg.select(*diagnosis_cols)\n",
    "    .withColumn(\"ICD9_dx\", array(*diagnosis_cols[1:]))\n",
    "    .select(\"DESYNPUF_ID\", \"ICD9_dx\")\n",
    ")\n",
    "\n",
    "df_sg = df_sg.withColumn(\"ICD9_sg\", explode(\"ICD9_sg\")).drop_duplicates().na.drop()\n",
    "df_dx = df_dx.withColumn(\"ICD9_dx\", explode(\"ICD9_dx\")).drop_duplicates().na.drop()\n",
    "\n",
    "df_sg = df_sg.withColumn(\"ICD9_sg\", substring_index(col(\"ICD9_sg\"), \".\", 1))\n",
    "df_sg = df_sg.withColumn(\n",
    "    \"ICD9_sg\",\n",
    "    when(df_sg.ICD9_sg.substr(1, 1) == \"E\", df_sg.ICD9_sg.substr(1, 4)).otherwise(\n",
    "        df_sg.ICD9_sg.substr(1, 3)\n",
    "    ),\n",
    ").drop_duplicates()\n",
    "df_dx = df_dx.withColumn(\"ICD9_dx\", substring_index(col(\"ICD9_dx\"), \".\", 1))\n",
    "df_dx = df_dx.withColumn(\n",
    "    \"ICD9_dx\",\n",
    "    when(df_dx.ICD9_dx.substr(1, 1) == \"E\", df_dx.ICD9_dx.substr(1, 4)).otherwise(\n",
    "        df_dx.ICD9_dx.substr(1, 3)\n",
    "    ),\n",
    ").drop_duplicates()"
   ]
  },
  {
   "cell_type": "code",
   "execution_count": 8,
   "id": "c25b951e",
   "metadata": {},
   "outputs": [],
   "source": [
    "df_sg = (\n",
    "    df_sg.join(map_diag, df_sg.ICD9_sg == map_diag.codes)\n",
    "    .drop_duplicates()\n",
    "    .groupBy(\"DESYNPUF_ID\")\n",
    "    .agg(collect_list(\"id\").alias(\"sg\"))\n",
    ")\n",
    "df_dx = (\n",
    "    df_dx.join(map_diag, df_dx.ICD9_dx == map_diag.codes)\n",
    "    .drop_duplicates()\n",
    "    .groupBy(\"DESYNPUF_ID\")\n",
    "    .agg(collect_list(\"id\").alias(\"dx\"))\n",
    ")\n",
    "df_sg = df_sg.withColumn(\"sg_cnt\", size(df_sg.sg))\n",
    "df_dx = df_dx.withColumn(\"dx_cnt\", size(df_dx.dx))"
   ]
  },
  {
   "cell_type": "code",
   "execution_count": 9,
   "id": "83fb6677",
   "metadata": {
    "tags": []
   },
   "outputs": [],
   "source": [
    "df_tensor = (\n",
    "    df_patient.join(df_rx, ['DESYNPUF_ID'], how=\"left\")\n",
    "    .join(df_dx, ['DESYNPUF_ID'], how=\"left\")\n",
    "    .join(df_sg, ['DESYNPUF_ID'], how=\"left\")\n",
    "    .fillna(0)\n",
    ")"
   ]
  },
  {
   "cell_type": "code",
   "execution_count": 10,
   "id": "117e8f0d-f78e-4f49-af33-72df1a7b31cb",
   "metadata": {},
   "outputs": [
    {
     "name": "stderr",
     "output_type": "stream",
     "text": [
      "[Stage 28:>                                                         (0 + 1) / 1]\r"
     ]
    },
    {
     "name": "stdout",
     "output_type": "stream",
     "text": [
      "+----------------+---+---+--------------------+------+--------------------+------+--------------------+------+\n",
      "|     DESYNPUF_ID|sex|age|                  rx|rx_cnt|                  dx|dx_cnt|                  sg|sg_cnt|\n",
      "+----------------+---+---+--------------------+------+--------------------+------+--------------------+------+\n",
      "|00013D2EFD8E45D1|  1| 85|[1003, 6456, 6075...|   170|[206, 98, 212, 23...|    37|                null|     0|\n",
      "|00016F745862898F|  1| 66|[4580, 1025, 7163...|    15|[238, 653, 211, 1...|    61|[2603, 170, 64, 2...|     8|\n",
      "|0001FDD721E223DC|  2| 72|[0126, 8201, 9005...|    69|[103, 118, 78, 1,...|    25|                null|     0|\n",
      "|00021CA6FF03E670|  1| 67|[9315, 6099, 6038...|     9|                null|     0|                null|     0|\n",
      "|00024B3D2352D2D0|  1| 72|[9071, 7169, 3128...|     4|[164, 53, 58, 167...|     5|                null|     0|\n",
      "|0002DAE1C81CC70D|  1| 65|[4045, 9148, 3093...|     8|                null|     0|                null|     0|\n",
      "|0002F28CE057345B|  1| 86|[9076, 5053, 9180...|     6|[211, 651, 245, 1...|    99|                null|     0|\n",
      "|000308435E3E5B76|  1| 73|              [3024]|     1|[53, 158, 106, 95...|    53|                null|     0|\n",
      "|000345A39D4157C9|  2| 32|  [9576, 9041, 8035]|     3|[95, 91, 155, 117...|    38|                null|     0|\n",
      "|00036A21B65B0206|  2| 70|[3070, 8003, 7245...|    78|                null|     0|                null|     0|\n",
      "|000489E7EAAD463F|  2| 74|[5066, 6013, 6068...|    81|[254, 95, 95, 47,...|    32|                null|     0|\n",
      "|00048EF1F4791C68|  1| 79|[2192, 4303, 6090...|    81|[133, 3, 118, 95,...|    25|                null|     0|\n",
      "|0004F0ABD505251D|  2| 72|[0043, 4580, 9448...|    96|[127, 11, 28, 238...|   145|                null|     0|\n",
      "|00052705243EA128|  1| 74|[6077, 2501, 5002...|     4|[670, 212, 8, 95,...|   172|                null|     0|\n",
      "|00070B63745BE497|  2| 72|              [3050]|     1|[49, 99, 258, 98,...|     9|                null|     0|\n",
      "|0007E57CC13CE880|  1| 75|                null|     0|                null|     0|                null|     0|\n",
      "|0007F12A492FD25D|  2| 89|[3099, 9019, 6012...|    63|[58, 62, 96, 252,...|   221|     [657, 234, 135]|     3|\n",
      "|000A005BA0BED3EA|  2| 89|[5092, 4722, 3422...|    28|                null|     0|                null|     0|\n",
      "|000B4662348C35B4|  2| 66|[2034, 2092, 8452...|    16|[106, 131, 95, 60...|   107|                null|     0|\n",
      "|000B97BA2314E971|  1| 70|[4000, 3022, 8072...|     4|[133, 118, 91, 1,...|    35|                null|     0|\n",
      "+----------------+---+---+--------------------+------+--------------------+------+--------------------+------+\n",
      "only showing top 20 rows\n",
      "\n"
     ]
    },
    {
     "name": "stderr",
     "output_type": "stream",
     "text": [
      "                                                                                \r"
     ]
    }
   ],
   "source": [
    "df_tensor.na.fill(0).show()"
   ]
  },
  {
   "cell_type": "code",
   "execution_count": 11,
   "id": "f1fcc1ed",
   "metadata": {},
   "outputs": [
    {
     "name": "stderr",
     "output_type": "stream",
     "text": [
      "                                                                                \r"
     ]
    }
   ],
   "source": [
    "df = df_tensor.toPandas().set_index(\"DESYNPUF_ID\").fillna(0)"
   ]
  },
  {
   "cell_type": "code",
   "execution_count": 12,
   "id": "f6658b2f",
   "metadata": {},
   "outputs": [],
   "source": [
    "df[\"rx\"] = df[\"rx\"].apply(\n",
    "    lambda x: [x] if x == 0 else [int(i) for i in x if str(i).isnumeric()]\n",
    ")\n",
    "df[\"dx\"] = df[\"dx\"].apply(\n",
    "    lambda x: [x] if x == 0 else [int(i) for i in x if str(i).isnumeric()]\n",
    ")\n",
    "df[\"sg\"] = df[\"sg\"].apply(\n",
    "    lambda x: [x] if x == 0 else [int(i) for i in x if str(i).isnumeric()]\n",
    ")"
   ]
  },
  {
   "cell_type": "code",
   "execution_count": 13,
   "id": "63fcb2f4",
   "metadata": {},
   "outputs": [
    {
     "data": {
      "text/html": [
       "<div>\n",
       "<style scoped>\n",
       "    .dataframe tbody tr th:only-of-type {\n",
       "        vertical-align: middle;\n",
       "    }\n",
       "\n",
       "    .dataframe tbody tr th {\n",
       "        vertical-align: top;\n",
       "    }\n",
       "\n",
       "    .dataframe thead th {\n",
       "        text-align: right;\n",
       "    }\n",
       "</style>\n",
       "<table border=\"1\" class=\"dataframe\">\n",
       "  <thead>\n",
       "    <tr style=\"text-align: right;\">\n",
       "      <th></th>\n",
       "      <th>sex</th>\n",
       "      <th>age</th>\n",
       "      <th>rx</th>\n",
       "      <th>rx_cnt</th>\n",
       "      <th>dx</th>\n",
       "      <th>dx_cnt</th>\n",
       "      <th>sg</th>\n",
       "      <th>sg_cnt</th>\n",
       "    </tr>\n",
       "    <tr>\n",
       "      <th>DESYNPUF_ID</th>\n",
       "      <th></th>\n",
       "      <th></th>\n",
       "      <th></th>\n",
       "      <th></th>\n",
       "      <th></th>\n",
       "      <th></th>\n",
       "      <th></th>\n",
       "      <th></th>\n",
       "    </tr>\n",
       "  </thead>\n",
       "  <tbody>\n",
       "    <tr>\n",
       "      <th>00013D2EFD8E45D1</th>\n",
       "      <td>1</td>\n",
       "      <td>85</td>\n",
       "      <td>[1003, 6456, 6075, 7333, 6566, 8080, 2010, 231...</td>\n",
       "      <td>170</td>\n",
       "      <td>[206, 98, 212, 238, 245, 259, 58, 163, 99, 200...</td>\n",
       "      <td>37</td>\n",
       "      <td>[0]</td>\n",
       "      <td>0</td>\n",
       "    </tr>\n",
       "    <tr>\n",
       "      <th>00016F745862898F</th>\n",
       "      <td>1</td>\n",
       "      <td>66</td>\n",
       "      <td>[4580, 1025, 7163, 76, 6040, 8251, 5048, 6095,...</td>\n",
       "      <td>15</td>\n",
       "      <td>[238, 653, 211, 158, 134, 663, 98, 170, 2614, ...</td>\n",
       "      <td>61</td>\n",
       "      <td>[2603, 170, 64, 257, 136, 254, 200, 45]</td>\n",
       "      <td>8</td>\n",
       "    </tr>\n",
       "    <tr>\n",
       "      <th>0001FDD721E223DC</th>\n",
       "      <td>2</td>\n",
       "      <td>72</td>\n",
       "      <td>[126, 8201, 9005, 2004, 4016, 7176, 2316, 4078...</td>\n",
       "      <td>69</td>\n",
       "      <td>[103, 118, 78, 1, 254, 133, 251, 224, 139, 117...</td>\n",
       "      <td>25</td>\n",
       "      <td>[0]</td>\n",
       "      <td>0</td>\n",
       "    </tr>\n",
       "    <tr>\n",
       "      <th>00021CA6FF03E670</th>\n",
       "      <td>1</td>\n",
       "      <td>67</td>\n",
       "      <td>[9315, 6099, 6038, 9094, 6072, 9061, 8265, 602...</td>\n",
       "      <td>9</td>\n",
       "      <td>[0]</td>\n",
       "      <td>0</td>\n",
       "      <td>[0]</td>\n",
       "      <td>0</td>\n",
       "    </tr>\n",
       "    <tr>\n",
       "      <th>00024B3D2352D2D0</th>\n",
       "      <td>1</td>\n",
       "      <td>72</td>\n",
       "      <td>[9071, 7169, 3128, 7079]</td>\n",
       "      <td>4</td>\n",
       "      <td>[164, 53, 58, 167, 258]</td>\n",
       "      <td>5</td>\n",
       "      <td>[0]</td>\n",
       "      <td>0</td>\n",
       "    </tr>\n",
       "  </tbody>\n",
       "</table>\n",
       "</div>"
      ],
      "text/plain": [
       "                 sex  age                                                 rx  \\\n",
       "DESYNPUF_ID                                                                    \n",
       "00013D2EFD8E45D1   1   85  [1003, 6456, 6075, 7333, 6566, 8080, 2010, 231...   \n",
       "00016F745862898F   1   66  [4580, 1025, 7163, 76, 6040, 8251, 5048, 6095,...   \n",
       "0001FDD721E223DC   2   72  [126, 8201, 9005, 2004, 4016, 7176, 2316, 4078...   \n",
       "00021CA6FF03E670   1   67  [9315, 6099, 6038, 9094, 6072, 9061, 8265, 602...   \n",
       "00024B3D2352D2D0   1   72                           [9071, 7169, 3128, 7079]   \n",
       "\n",
       "                  rx_cnt                                                 dx  \\\n",
       "DESYNPUF_ID                                                                   \n",
       "00013D2EFD8E45D1     170  [206, 98, 212, 238, 245, 259, 58, 163, 99, 200...   \n",
       "00016F745862898F      15  [238, 653, 211, 158, 134, 663, 98, 170, 2614, ...   \n",
       "0001FDD721E223DC      69  [103, 118, 78, 1, 254, 133, 251, 224, 139, 117...   \n",
       "00021CA6FF03E670       9                                                [0]   \n",
       "00024B3D2352D2D0       4                            [164, 53, 58, 167, 258]   \n",
       "\n",
       "                  dx_cnt                                       sg  sg_cnt  \n",
       "DESYNPUF_ID                                                                \n",
       "00013D2EFD8E45D1      37                                      [0]       0  \n",
       "00016F745862898F      61  [2603, 170, 64, 257, 136, 254, 200, 45]       8  \n",
       "0001FDD721E223DC      25                                      [0]       0  \n",
       "00021CA6FF03E670       0                                      [0]       0  \n",
       "00024B3D2352D2D0       5                                      [0]       0  "
      ]
     },
     "execution_count": 13,
     "metadata": {},
     "output_type": "execute_result"
    }
   ],
   "source": [
    "df.head()"
   ]
  },
  {
   "cell_type": "code",
   "execution_count": 14,
   "id": "aa8d398b-237d-4b61-868b-6952e6768584",
   "metadata": {},
   "outputs": [],
   "source": [
    "df.to_pickle(\"df_pd.pkl\")"
   ]
  },
  {
   "cell_type": "code",
   "execution_count": 15,
   "id": "501f9ec3-8b48-4de2-bbce-a56a546df328",
   "metadata": {},
   "outputs": [],
   "source": [
    "df = pd.read_pickle(\"df_pd.pkl\")"
   ]
  },
  {
   "cell_type": "code",
   "execution_count": 16,
   "id": "e2fe59e4-fee9-4b95-be59-6d2af00fb4f3",
   "metadata": {},
   "outputs": [
    {
     "name": "stdout",
     "output_type": "stream",
     "text": [
      "<class 'pandas.core.frame.DataFrame'>\n",
      "Index: 114538 entries, 00013D2EFD8E45D1 to FFFF7C107A4E385A\n",
      "Data columns (total 8 columns):\n",
      " #   Column  Non-Null Count   Dtype \n",
      "---  ------  --------------   ----- \n",
      " 0   sex     114538 non-null  object\n",
      " 1   age     114538 non-null  int32 \n",
      " 2   rx      114538 non-null  object\n",
      " 3   rx_cnt  114538 non-null  int32 \n",
      " 4   dx      114538 non-null  object\n",
      " 5   dx_cnt  114538 non-null  int32 \n",
      " 6   sg      114538 non-null  object\n",
      " 7   sg_cnt  114538 non-null  int32 \n",
      "dtypes: int32(4), object(4)\n",
      "memory usage: 6.1+ MB\n"
     ]
    }
   ],
   "source": [
    "df.info()"
   ]
  },
  {
   "cell_type": "code",
   "execution_count": 17,
   "id": "df943fbc-dafb-4bb6-8136-79b921ee9e89",
   "metadata": {},
   "outputs": [
    {
     "data": {
      "text/html": [
       "<div>\n",
       "<style scoped>\n",
       "    .dataframe tbody tr th:only-of-type {\n",
       "        vertical-align: middle;\n",
       "    }\n",
       "\n",
       "    .dataframe tbody tr th {\n",
       "        vertical-align: top;\n",
       "    }\n",
       "\n",
       "    .dataframe thead th {\n",
       "        text-align: right;\n",
       "    }\n",
       "</style>\n",
       "<table border=\"1\" class=\"dataframe\">\n",
       "  <thead>\n",
       "    <tr style=\"text-align: right;\">\n",
       "      <th></th>\n",
       "      <th>sex</th>\n",
       "      <th>age</th>\n",
       "      <th>rx</th>\n",
       "      <th>rx_cnt</th>\n",
       "      <th>dx</th>\n",
       "      <th>dx_cnt</th>\n",
       "      <th>sg</th>\n",
       "      <th>sg_cnt</th>\n",
       "    </tr>\n",
       "    <tr>\n",
       "      <th>DESYNPUF_ID</th>\n",
       "      <th></th>\n",
       "      <th></th>\n",
       "      <th></th>\n",
       "      <th></th>\n",
       "      <th></th>\n",
       "      <th></th>\n",
       "      <th></th>\n",
       "      <th></th>\n",
       "    </tr>\n",
       "  </thead>\n",
       "  <tbody>\n",
       "    <tr>\n",
       "      <th>00013D2EFD8E45D1</th>\n",
       "      <td>1</td>\n",
       "      <td>85</td>\n",
       "      <td>[1003, 6456, 6075, 7333, 6566, 8080, 2010, 231...</td>\n",
       "      <td>170</td>\n",
       "      <td>[206, 98, 212, 238, 245, 259, 58, 163, 99, 200...</td>\n",
       "      <td>37</td>\n",
       "      <td>[0]</td>\n",
       "      <td>0</td>\n",
       "    </tr>\n",
       "    <tr>\n",
       "      <th>00016F745862898F</th>\n",
       "      <td>1</td>\n",
       "      <td>66</td>\n",
       "      <td>[4580, 1025, 7163, 76, 6040, 8251, 5048, 6095,...</td>\n",
       "      <td>15</td>\n",
       "      <td>[238, 653, 211, 158, 134, 663, 98, 170, 2614, ...</td>\n",
       "      <td>61</td>\n",
       "      <td>[2603, 170, 64, 257, 136, 254, 200, 45]</td>\n",
       "      <td>8</td>\n",
       "    </tr>\n",
       "    <tr>\n",
       "      <th>0001FDD721E223DC</th>\n",
       "      <td>2</td>\n",
       "      <td>72</td>\n",
       "      <td>[126, 8201, 9005, 2004, 4016, 7176, 2316, 4078...</td>\n",
       "      <td>69</td>\n",
       "      <td>[103, 118, 78, 1, 254, 133, 251, 224, 139, 117...</td>\n",
       "      <td>25</td>\n",
       "      <td>[0]</td>\n",
       "      <td>0</td>\n",
       "    </tr>\n",
       "    <tr>\n",
       "      <th>00021CA6FF03E670</th>\n",
       "      <td>1</td>\n",
       "      <td>67</td>\n",
       "      <td>[9315, 6099, 6038, 9094, 6072, 9061, 8265, 602...</td>\n",
       "      <td>9</td>\n",
       "      <td>[0]</td>\n",
       "      <td>0</td>\n",
       "      <td>[0]</td>\n",
       "      <td>0</td>\n",
       "    </tr>\n",
       "    <tr>\n",
       "      <th>00024B3D2352D2D0</th>\n",
       "      <td>1</td>\n",
       "      <td>72</td>\n",
       "      <td>[9071, 7169, 3128, 7079]</td>\n",
       "      <td>4</td>\n",
       "      <td>[164, 53, 58, 167, 258]</td>\n",
       "      <td>5</td>\n",
       "      <td>[0]</td>\n",
       "      <td>0</td>\n",
       "    </tr>\n",
       "    <tr>\n",
       "      <th>0002DAE1C81CC70D</th>\n",
       "      <td>1</td>\n",
       "      <td>65</td>\n",
       "      <td>[4045, 9148, 3093, 7034, 9142, 4028, 1060, 8082]</td>\n",
       "      <td>8</td>\n",
       "      <td>[0]</td>\n",
       "      <td>0</td>\n",
       "      <td>[0]</td>\n",
       "      <td>0</td>\n",
       "    </tr>\n",
       "    <tr>\n",
       "      <th>0002F28CE057345B</th>\n",
       "      <td>1</td>\n",
       "      <td>86</td>\n",
       "      <td>[9076, 5053, 9180, 6082, 1006, 9008]</td>\n",
       "      <td>6</td>\n",
       "      <td>[211, 651, 245, 151, 230, 49, 661, 47, 211, 24...</td>\n",
       "      <td>99</td>\n",
       "      <td>[0]</td>\n",
       "      <td>0</td>\n",
       "    </tr>\n",
       "    <tr>\n",
       "      <th>000308435E3E5B76</th>\n",
       "      <td>1</td>\n",
       "      <td>73</td>\n",
       "      <td>[3024]</td>\n",
       "      <td>1</td>\n",
       "      <td>[53, 158, 106, 95, 127, 105, 205, 45, 254, 653...</td>\n",
       "      <td>53</td>\n",
       "      <td>[0]</td>\n",
       "      <td>0</td>\n",
       "    </tr>\n",
       "    <tr>\n",
       "      <th>000345A39D4157C9</th>\n",
       "      <td>2</td>\n",
       "      <td>32</td>\n",
       "      <td>[9576, 9041, 8035]</td>\n",
       "      <td>3</td>\n",
       "      <td>[95, 91, 155, 117, 99, 244, 95, 86, 238, 49, 9...</td>\n",
       "      <td>38</td>\n",
       "      <td>[0]</td>\n",
       "      <td>0</td>\n",
       "    </tr>\n",
       "    <tr>\n",
       "      <th>00036A21B65B0206</th>\n",
       "      <td>2</td>\n",
       "      <td>70</td>\n",
       "      <td>[3070, 8003, 7245, 6073, 5208, 2704, 6099, 852...</td>\n",
       "      <td>78</td>\n",
       "      <td>[0]</td>\n",
       "      <td>0</td>\n",
       "      <td>[0]</td>\n",
       "      <td>0</td>\n",
       "    </tr>\n",
       "  </tbody>\n",
       "</table>\n",
       "</div>"
      ],
      "text/plain": [
       "                 sex  age                                                 rx  \\\n",
       "DESYNPUF_ID                                                                    \n",
       "00013D2EFD8E45D1   1   85  [1003, 6456, 6075, 7333, 6566, 8080, 2010, 231...   \n",
       "00016F745862898F   1   66  [4580, 1025, 7163, 76, 6040, 8251, 5048, 6095,...   \n",
       "0001FDD721E223DC   2   72  [126, 8201, 9005, 2004, 4016, 7176, 2316, 4078...   \n",
       "00021CA6FF03E670   1   67  [9315, 6099, 6038, 9094, 6072, 9061, 8265, 602...   \n",
       "00024B3D2352D2D0   1   72                           [9071, 7169, 3128, 7079]   \n",
       "0002DAE1C81CC70D   1   65   [4045, 9148, 3093, 7034, 9142, 4028, 1060, 8082]   \n",
       "0002F28CE057345B   1   86               [9076, 5053, 9180, 6082, 1006, 9008]   \n",
       "000308435E3E5B76   1   73                                             [3024]   \n",
       "000345A39D4157C9   2   32                                 [9576, 9041, 8035]   \n",
       "00036A21B65B0206   2   70  [3070, 8003, 7245, 6073, 5208, 2704, 6099, 852...   \n",
       "\n",
       "                  rx_cnt                                                 dx  \\\n",
       "DESYNPUF_ID                                                                   \n",
       "00013D2EFD8E45D1     170  [206, 98, 212, 238, 245, 259, 58, 163, 99, 200...   \n",
       "00016F745862898F      15  [238, 653, 211, 158, 134, 663, 98, 170, 2614, ...   \n",
       "0001FDD721E223DC      69  [103, 118, 78, 1, 254, 133, 251, 224, 139, 117...   \n",
       "00021CA6FF03E670       9                                                [0]   \n",
       "00024B3D2352D2D0       4                            [164, 53, 58, 167, 258]   \n",
       "0002DAE1C81CC70D       8                                                [0]   \n",
       "0002F28CE057345B       6  [211, 651, 245, 151, 230, 49, 661, 47, 211, 24...   \n",
       "000308435E3E5B76       1  [53, 158, 106, 95, 127, 105, 205, 45, 254, 653...   \n",
       "000345A39D4157C9       3  [95, 91, 155, 117, 99, 244, 95, 86, 238, 49, 9...   \n",
       "00036A21B65B0206      78                                                [0]   \n",
       "\n",
       "                  dx_cnt                                       sg  sg_cnt  \n",
       "DESYNPUF_ID                                                                \n",
       "00013D2EFD8E45D1      37                                      [0]       0  \n",
       "00016F745862898F      61  [2603, 170, 64, 257, 136, 254, 200, 45]       8  \n",
       "0001FDD721E223DC      25                                      [0]       0  \n",
       "00021CA6FF03E670       0                                      [0]       0  \n",
       "00024B3D2352D2D0       5                                      [0]       0  \n",
       "0002DAE1C81CC70D       0                                      [0]       0  \n",
       "0002F28CE057345B      99                                      [0]       0  \n",
       "000308435E3E5B76      53                                      [0]       0  \n",
       "000345A39D4157C9      38                                      [0]       0  \n",
       "00036A21B65B0206       0                                      [0]       0  "
      ]
     },
     "execution_count": 17,
     "metadata": {},
     "output_type": "execute_result"
    }
   ],
   "source": [
    "df.head(10)"
   ]
  },
  {
   "cell_type": "code",
   "execution_count": 18,
   "id": "0bbe851f-7a5a-40f6-a07f-fc52393eb8be",
   "metadata": {
    "tags": []
   },
   "outputs": [],
   "source": [
    "mlb = MultiLabelBinarizer(sparse_output=True)\n",
    "df = df.join(\n",
    "    pd.DataFrame.sparse.from_spmatrix(\n",
    "        mlb.fit_transform(df.pop(\"rx\")),\n",
    "        index=df.index,\n",
    "        columns=[\"rx_\" + str(i) for i in mlb.classes_],\n",
    "    )\n",
    ")"
   ]
  },
  {
   "cell_type": "code",
   "execution_count": 19,
   "id": "6867b379-3014-4f6b-9555-12d5db5b9e8e",
   "metadata": {},
   "outputs": [],
   "source": [
    "df = df.join(\n",
    "    pd.DataFrame.sparse.from_spmatrix(\n",
    "        mlb.fit_transform(df.pop(\"dx\")),\n",
    "        index=df.index,\n",
    "        columns=[\"dx_\" + str(i) for i in mlb.classes_],\n",
    "    )\n",
    ")"
   ]
  },
  {
   "cell_type": "code",
   "execution_count": 20,
   "id": "99227e3e-568b-4ee4-9166-db45fc3bf21c",
   "metadata": {
    "tags": []
   },
   "outputs": [],
   "source": [
    "df = df.join(\n",
    "    pd.DataFrame.sparse.from_spmatrix(\n",
    "        mlb.fit_transform(df.pop(\"sg\")),\n",
    "        index=df.index,\n",
    "        columns=[\"sg_\" + str(i) for i in mlb.classes_],\n",
    "    )\n",
    ")"
   ]
  },
  {
   "cell_type": "code",
   "execution_count": 21,
   "id": "0519d598",
   "metadata": {},
   "outputs": [],
   "source": [
    "for i in df.columns:\n",
    "    df[[i]] = df[[i]].astype(np.int16)"
   ]
  },
  {
   "cell_type": "code",
   "execution_count": 22,
   "id": "840f6822-bf8a-4c36-aecf-1e0b932f748a",
   "metadata": {},
   "outputs": [
    {
     "name": "stdout",
     "output_type": "stream",
     "text": [
      "<class 'pandas.core.frame.DataFrame'>\n",
      "Index: 114538 entries, 00013D2EFD8E45D1 to FFFF7C107A4E385A\n",
      "Columns: 8308 entries, sex to sg_2621\n",
      "dtypes: Sparse[int16, 0](8303), int16(5)\n",
      "memory usage: 62.3+ MB\n"
     ]
    }
   ],
   "source": [
    "df.info()"
   ]
  },
  {
   "cell_type": "code",
   "execution_count": 23,
   "id": "4cac0165",
   "metadata": {},
   "outputs": [],
   "source": [
    "# np.save(\"df_tensor\", df.to_numpy())"
   ]
  }
 ],
 "metadata": {
  "interpreter": {
   "hash": "5b38a724eceeabb14f18a783e4bbf1731da6bc0bb2ada301d64f4f357af4ec04"
  },
  "kernelspec": {
   "display_name": "Python [conda env:py38]",
   "language": "python",
   "name": "conda-env-py38-py"
  },
  "language_info": {
   "codemirror_mode": {
    "name": "ipython",
    "version": 3
   },
   "file_extension": ".py",
   "mimetype": "text/x-python",
   "name": "python",
   "nbconvert_exporter": "python",
   "pygments_lexer": "ipython3",
   "version": "3.8.12"
  }
 },
 "nbformat": 4,
 "nbformat_minor": 5
}
